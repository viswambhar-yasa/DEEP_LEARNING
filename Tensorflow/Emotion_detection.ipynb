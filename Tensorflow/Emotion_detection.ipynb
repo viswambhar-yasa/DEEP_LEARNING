{
  "nbformat": 4,
  "nbformat_minor": 0,
  "metadata": {
    "colab": {
      "name": "Emotion_detection.ipynb",
      "provenance": [],
      "collapsed_sections": []
    },
    "kernelspec": {
      "name": "python3",
      "display_name": "Python 3"
    },
    "language_info": {
      "name": "python"
    }
  },
  "cells": [
    {
      "cell_type": "code",
      "metadata": {
        "id": "w0i4gJZTUF8i"
      },
      "source": [
        "import math\n",
        "import numpy as np\n",
        "import h5py\n",
        "import matplotlib.pyplot as plt\n",
        "from matplotlib.pyplot import imread\n",
        "import scipy\n",
        "from PIL import Image\n",
        "import pandas as pd\n",
        "import tensorflow as tf\n",
        "import tensorflow.keras.layers as tfl\n",
        "from tensorflow.python.framework import ops"
      ],
      "execution_count": 1,
      "outputs": []
    },
    {
      "cell_type": "markdown",
      "metadata": {
        "id": "T6NNryrODEHr"
      },
      "source": [
        "### Preparing Datasets"
      ]
    },
    {
      "cell_type": "code",
      "metadata": {
        "colab": {
          "base_uri": "https://localhost:8080/"
        },
        "id": "5nL1VnDyUvim",
        "outputId": "b881a67d-f717-46eb-b4cd-527df1d37545"
      },
      "source": [
        "!wget https://github.com/viswambhar-yasa/Emotion-detection-happy-vs-sad/blob/main/train_happy.h5"
      ],
      "execution_count": 2,
      "outputs": [
        {
          "output_type": "stream",
          "text": [
            "--2021-08-26 14:28:36--  https://github.com/viswambhar-yasa/Emotion-detection-happy-vs-sad/blob/main/train_happy.h5\n",
            "Resolving github.com (github.com)... 140.82.121.3\n",
            "Connecting to github.com (github.com)|140.82.121.3|:443... connected.\n",
            "HTTP request sent, awaiting response... 200 OK\n",
            "Length: unspecified [text/html]\n",
            "Saving to: ‘train_happy.h5’\n",
            "\n",
            "train_happy.h5          [ <=>                ] 127.44K  --.-KB/s    in 0.02s   \n",
            "\n",
            "2021-08-26 14:28:36 (5.48 MB/s) - ‘train_happy.h5’ saved [130502]\n",
            "\n"
          ],
          "name": "stdout"
        }
      ]
    },
    {
      "cell_type": "code",
      "metadata": {
        "colab": {
          "base_uri": "https://localhost:8080/"
        },
        "id": "1wyoVsnZC6ow",
        "outputId": "a643044a-8961-4111-9cbb-4c6d59fd8e42"
      },
      "source": [
        "!wget https://github.com/viswambhar-yasa/Emotion-detection-happy-vs-sad/blob/main/test_happy.h5"
      ],
      "execution_count": 3,
      "outputs": [
        {
          "output_type": "stream",
          "text": [
            "--2021-08-26 14:28:40--  https://github.com/viswambhar-yasa/Emotion-detection-happy-vs-sad/blob/main/test_happy.h5\n",
            "Resolving github.com (github.com)... 140.82.121.3\n",
            "Connecting to github.com (github.com)|140.82.121.3|:443... connected.\n",
            "HTTP request sent, awaiting response... 200 OK\n",
            "Length: unspecified [text/html]\n",
            "Saving to: ‘test_happy.h5’\n",
            "\n",
            "test_happy.h5           [ <=>                ] 122.84K  --.-KB/s    in 0.02s   \n",
            "\n",
            "2021-08-26 14:28:40 (5.41 MB/s) - ‘test_happy.h5’ saved [125788]\n",
            "\n"
          ],
          "name": "stdout"
        }
      ]
    },
    {
      "cell_type": "code",
      "metadata": {
        "colab": {
          "base_uri": "https://localhost:8080/"
        },
        "id": "gnyg9D-PDJQT",
        "outputId": "c7ea6897-5e55-4f49-9e3f-17f83f54bb31"
      },
      "source": [
        "ls "
      ],
      "execution_count": 4,
      "outputs": [
        {
          "output_type": "stream",
          "text": [
            "\u001b[0m\u001b[01;34msample_data\u001b[0m/  test_happy.h5  train_happy.h5\n"
          ],
          "name": "stdout"
        }
      ]
    },
    {
      "cell_type": "code",
      "metadata": {
        "id": "tvGV6jr4DKgE"
      },
      "source": [
        "train_dataset = h5py.File('./train_happy.h5', \"r\")\n",
        "train_set_x_orig = np.array(train_dataset[\"train_set_x\"][:]) # your train set features\n",
        "train_set_y_orig = np.array(train_dataset[\"train_set_y\"][:]) # your train set labels\n",
        "\n",
        "test_dataset = h5py.File('./test_happy.h5', \"r\")\n",
        "test_set_x_orig = np.array(test_dataset[\"test_set_x\"][:]) # your test set features\n",
        "test_set_y_orig = np.array(test_dataset[\"test_set_y\"][:]) # your test set labels\n",
        "\n",
        "classes = np.array(test_dataset[\"list_classes\"][:]) # the list of classes\n",
        "\n",
        "train_set_y_orig = train_set_y_orig.reshape((1, train_set_y_orig.shape[0]))\n",
        "test_set_y_orig = test_set_y_orig.reshape((1, test_set_y_orig.shape[0]))"
      ],
      "execution_count": 26,
      "outputs": []
    },
    {
      "cell_type": "code",
      "metadata": {
        "colab": {
          "base_uri": "https://localhost:8080/"
        },
        "id": "m1RIguy_DW-N",
        "outputId": "e66bd8e2-3b32-4f3a-af03-76ad1604069f"
      },
      "source": [
        "# Normalize image vectors\n",
        "X_train = train_set_x_orig/255.\n",
        "X_test = test_set_x_orig/255.\n",
        "\n",
        "# Reshape\n",
        "Y_train = train_set_y_orig.T\n",
        "Y_test = test_set_y_orig.T\n",
        "\n",
        "print (\"number of training examples = \" + str(X_train.shape[0]))\n",
        "print (\"number of test examples = \" + str(X_test.shape[0]))\n",
        "print (\"X_train shape: \" + str(X_train.shape))\n",
        "print (\"Y_train shape: \" + str(Y_train.shape))\n",
        "print (\"X_test shape: \" + str(X_test.shape))\n",
        "print (\"Y_test shape: \" + str(Y_test.shape))"
      ],
      "execution_count": 27,
      "outputs": [
        {
          "output_type": "stream",
          "text": [
            "number of training examples = 600\n",
            "number of test examples = 150\n",
            "X_train shape: (600, 64, 64, 3)\n",
            "Y_train shape: (600, 1)\n",
            "X_test shape: (150, 64, 64, 3)\n",
            "Y_test shape: (150, 1)\n"
          ],
          "name": "stdout"
        }
      ]
    },
    {
      "cell_type": "code",
      "metadata": {
        "colab": {
          "base_uri": "https://localhost:8080/",
          "height": 268
        },
        "id": "04x10KsEJdS-",
        "outputId": "ded15b05-83bf-467a-dfc2-97f15872bac2"
      },
      "source": [
        "index = 55\n",
        "plt.imshow(train_set_x_orig[index]) #display sample training image\n",
        "plt.show()"
      ],
      "execution_count": 28,
      "outputs": [
        {
          "output_type": "display_data",
          "data": {
            "image/png": "[encoded data removed]",
            "text/plain": [
              "<Figure size 432x288 with 1 Axes>"
            ]
          },
          "metadata": {
            "needs_background": "light"
          }
        }
      ]
    },
    {
      "cell_type": "code",
      "metadata": {
        "id": "-trX79757pfw"
      },
      "source": [
        "# GRADED FUNCTION: happyModel\n",
        "\n",
        "def happyModel():\n",
        "    \"\"\"\n",
        "    Implements the forward propagation for the binary classification model:\n",
        "    ZEROPAD2D -> CONV2D -> BATCHNORM -> RELU -> MAXPOOL -> FLATTEN -> DENSE\n",
        "    \n",
        "    Note that for simplicity and grading purposes, you'll hard-code all the values\n",
        "    such as the stride and kernel (filter) sizes. \n",
        "    Normally, functions should take these values as function parameters.\n",
        "    \n",
        "    Arguments:\n",
        "    None\n",
        "\n",
        "    Returns:\n",
        "    model -- TF Keras model (object containing the information for the entire training process) \n",
        "    \"\"\"\n",
        "    model = tf.keras.Sequential([\n",
        "            tfl.ZeroPadding2D(padding=(3,3),input_shape = (64, 64, 3)),\n",
        "            tfl.Conv2D(32,kernel_size=(7,7),strides=(1,1)),\n",
        "            tfl.BatchNormalization(axis=3),\n",
        "            tfl.ReLU(),\n",
        "            tfl.MaxPool2D(),\n",
        "            tfl.Flatten(),\n",
        "            tfl.Dense(1,activation='sigmoid')\n",
        "        ])\n",
        "    \n",
        "    return model"
      ],
      "execution_count": 29,
      "outputs": []
    },
    {
      "cell_type": "code",
      "metadata": {
        "id": "ehJ-V_ak7-C5"
      },
      "source": [
        "happy_model = happyModel()\n",
        "happy_model.compile(optimizer='adam',\n",
        "                   loss='binary_crossentropy',\n",
        "                   metrics=['accuracy'])"
      ],
      "execution_count": 30,
      "outputs": []
    },
    {
      "cell_type": "code",
      "metadata": {
        "colab": {
          "base_uri": "https://localhost:8080/"
        },
        "id": "hqM2Dobp8HBO",
        "outputId": "6d39f7f6-b434-4f84-c619-5b1461ab58bd"
      },
      "source": [
        "happy_model.summary()"
      ],
      "execution_count": 31,
      "outputs": [
        {
          "output_type": "stream",
          "text": [
            "Model: \"sequential_1\"\n",
            "_________________________________________________________________\n",
            "Layer (type)                 Output Shape              Param #   \n",
            "=================================================================\n",
            "zero_padding2d_1 (ZeroPaddin (None, 70, 70, 3)         0         \n",
            "_________________________________________________________________\n",
            "conv2d_1 (Conv2D)            (None, 64, 64, 32)        4736      \n",
            "_________________________________________________________________\n",
            "batch_normalization_1 (Batch (None, 64, 64, 32)        128       \n",
            "_________________________________________________________________\n",
            "re_lu_1 (ReLU)               (None, 64, 64, 32)        0         \n",
            "_________________________________________________________________\n",
            "max_pooling2d_1 (MaxPooling2 (None, 32, 32, 32)        0         \n",
            "_________________________________________________________________\n",
            "flatten_1 (Flatten)          (None, 32768)             0         \n",
            "_________________________________________________________________\n",
            "dense_1 (Dense)              (None, 1)                 32769     \n",
            "=================================================================\n",
            "Total params: 37,633\n",
            "Trainable params: 37,569\n",
            "Non-trainable params: 64\n",
            "_________________________________________________________________\n"
          ],
          "name": "stdout"
        }
      ]
    },
    {
      "cell_type": "code",
      "metadata": {
        "colab": {
          "base_uri": "https://localhost:8080/"
        },
        "id": "Q4ngPJyU8Jfg",
        "outputId": "d5a7ab71-87e6-4c7c-f907-039a660f8a4e"
      },
      "source": [
        "happy_model.fit(X_train, Y_train, epochs=10, batch_size=16)"
      ],
      "execution_count": 24,
      "outputs": [
        {
          "output_type": "stream",
          "text": [
            "Epoch 1/10\n",
            "38/38 [==============================] - 5s 105ms/step - loss: 1.3082 - accuracy: 0.6583\n",
            "Epoch 2/10\n",
            "38/38 [==============================] - 4s 117ms/step - loss: 0.2343 - accuracy: 0.9050\n",
            "Epoch 3/10\n",
            "38/38 [==============================] - 4s 113ms/step - loss: 0.2429 - accuracy: 0.9083\n",
            "Epoch 4/10\n",
            "38/38 [==============================] - 4s 117ms/step - loss: 0.2205 - accuracy: 0.9150\n",
            "Epoch 5/10\n",
            "38/38 [==============================] - 4s 110ms/step - loss: 0.1144 - accuracy: 0.9533\n",
            "Epoch 6/10\n",
            "38/38 [==============================] - 4s 107ms/step - loss: 0.1080 - accuracy: 0.9583\n",
            "Epoch 7/10\n",
            "38/38 [==============================] - 4s 107ms/step - loss: 0.1063 - accuracy: 0.9633\n",
            "Epoch 8/10\n",
            "38/38 [==============================] - 4s 112ms/step - loss: 0.0789 - accuracy: 0.9700\n",
            "Epoch 9/10\n",
            "38/38 [==============================] - 4s 107ms/step - loss: 0.0802 - accuracy: 0.9633\n",
            "Epoch 10/10\n",
            "38/38 [==============================] - 4s 102ms/step - loss: 0.1351 - accuracy: 0.9567\n"
          ],
          "name": "stdout"
        },
        {
          "output_type": "execute_result",
          "data": {
            "text/plain": [
              "<keras.callbacks.History at 0x7f01c3c907d0>"
            ]
          },
          "metadata": {},
          "execution_count": 24
        }
      ]
    },
    {
      "cell_type": "code",
      "metadata": {
        "id": "rdn-eQkY8UZZ"
      },
      "source": [
        "x_predicted=happy_model.predict(X_test)"
      ],
      "execution_count": 53,
      "outputs": []
    },
    {
      "cell_type": "code",
      "metadata": {
        "colab": {
          "base_uri": "https://localhost:8080/"
        },
        "id": "PEE3bjEc88gn",
        "outputId": "b470a8fd-9eb0-495b-9adf-7ef02d7432f6"
      },
      "source": [
        "from sklearn.metrics import confusion_matrix\n",
        "cm=confusion_matrix(np.round(x_predicted),Y_test)\n",
        "cm"
      ],
      "execution_count": 39,
      "outputs": [
        {
          "output_type": "execute_result",
          "data": {
            "text/plain": [
              "array([[66, 84],\n",
              "       [ 0,  0]])"
            ]
          },
          "metadata": {},
          "execution_count": 39
        }
      ]
    },
    {
      "cell_type": "code",
      "metadata": {
        "id": "pay9jamO9zrK"
      },
      "source": [
        ""
      ],
      "execution_count": null,
      "outputs": []
    }
  ]
}