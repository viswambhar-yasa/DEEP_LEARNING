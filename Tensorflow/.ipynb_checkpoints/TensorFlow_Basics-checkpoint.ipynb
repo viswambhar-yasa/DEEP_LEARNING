{
 "cells": [
  {
   "cell_type": "markdown",
   "metadata": {},
   "source": [
    "#### TENSORFLOW BAISC UNDERSTANDING "
   ]
  },
  {
   "cell_type": "code",
   "execution_count": 2,
   "metadata": {},
   "outputs": [],
   "source": [
    "import numpy as np\n",
    "import tensorflow as tf\n",
    "from tensorflow.keras import optimizers"
   ]
  },
  {
   "cell_type": "code",
   "execution_count": 3,
   "metadata": {},
   "outputs": [
    {
     "name": "stdout",
     "output_type": "stream",
     "text": [
      "Version of tensorflow 2.5.0\n"
     ]
    }
   ],
   "source": [
    "print('Version of tensorflow',tf.__version__)"
   ]
  },
  {
   "cell_type": "code",
   "execution_count": 34,
   "metadata": {},
   "outputs": [
    {
     "name": "stdout",
     "output_type": "stream",
     "text": [
      "Using tensor flow constant class to generate variable which cannot be changed\n",
      "Rank 0 tensor : tf.Tensor(4, shape=(), dtype=int32)\n",
      "size of tensor : 0\n",
      "size of tensor : ()\n"
     ]
    }
   ],
   "source": [
    "# assigning variables\n",
    "print('Using tensor flow constant class to generate variable which cannot be changed')\n",
    "rank_0_tensor = tf.constant(4)\n",
    "print('Rank 0 tensor :',rank_0_tensor)\n",
    "print('size of tensor :',rank_0_tensor.ndim)\n",
    "print('size of tensor :',rank_0_tensor.shape)"
   ]
  },
  {
   "cell_type": "code",
   "execution_count": 38,
   "metadata": {},
   "outputs": [
    {
     "name": "stdout",
     "output_type": "stream",
     "text": [
      "tf.Tensor([[7.]], shape=(1, 1), dtype=float16)\n",
      "Rank 0 tensor : tf.Tensor([[7.]], shape=(1, 1), dtype=float16)\n",
      "size of tensor : 2\n",
      "size of tensor : (1, 1)\n",
      "data type of tensor : <dtype: 'float16'>\n"
     ]
    }
   ],
   "source": [
    "y=tf.constant(7,shape=(1,1),dtype=np.float16)\n",
    "print(y)\n",
    "print('Rank 0 tensor :',y)\n",
    "print('size of tensor :',y.ndim)\n",
    "print('size of tensor :',y.shape)\n",
    "print('data type of tensor :',y.dtype)"
   ]
  },
  {
   "cell_type": "code",
   "execution_count": 41,
   "metadata": {},
   "outputs": [
    {
     "name": "stdout",
     "output_type": "stream",
     "text": [
      "tf.Tensor(\n",
      "[[1. 2.]\n",
      " [3. 4.]\n",
      " [5. 6.]], shape=(3, 2), dtype=float32)\n"
     ]
    }
   ],
   "source": [
    "rank_2_tensor = tf.constant([[1, 2],\n",
    "                             [3, 4],\n",
    "                             [5, 6]], dtype=tf.float32)\n",
    "print(rank_2_tensor)\n",
    "## 2nd order tensor with 32 precision"
   ]
  },
  {
   "cell_type": "code",
   "execution_count": 42,
   "metadata": {},
   "outputs": [
    {
     "name": "stdout",
     "output_type": "stream",
     "text": [
      "tf.Tensor(\n",
      "[[[ 0  1  2  3  4]\n",
      "  [ 5  6  7  8  9]]\n",
      "\n",
      " [[10 11 12 13 14]\n",
      "  [15 16 17 18 19]]\n",
      "\n",
      " [[20 21 22 23 24]\n",
      "  [25 26 27 28 29]]], shape=(3, 2, 5), dtype=int32)\n"
     ]
    }
   ],
   "source": [
    "rank_3_tensor = tf.constant([\n",
    "  [[0, 1, 2, 3, 4],\n",
    "   [5, 6, 7, 8, 9]],\n",
    "  [[10, 11, 12, 13, 14],\n",
    "   [15, 16, 17, 18, 19]],\n",
    "  [[20, 21, 22, 23, 24],\n",
    "   [25, 26, 27, 28, 29]],])\n",
    "\n",
    "print(rank_3_tensor)"
   ]
  },
  {
   "cell_type": "code",
   "execution_count": 48,
   "metadata": {},
   "outputs": [
    {
     "name": "stdout",
     "output_type": "stream",
     "text": [
      "(3, 2, 5)\n",
      "Along z-axis : 3\n",
      "No of rows : 2\n",
      "No of columns: 5\n"
     ]
    }
   ],
   "source": [
    "print(rank_3_tensor.shape)\n",
    "print('Along z-axis :',rank_3_tensor.shape[0])\n",
    "print('No of rows :',rank_3_tensor.shape[1])\n",
    "print('No of columns:',rank_3_tensor.shape[2])"
   ]
  },
  {
   "cell_type": "code",
   "execution_count": 49,
   "metadata": {},
   "outputs": [
    {
     "name": "stdout",
     "output_type": "stream",
     "text": [
      "[[[ 0  1  2  3  4]\n",
      "  [ 5  6  7  8  9]]\n",
      "\n",
      " [[10 11 12 13 14]\n",
      "  [15 16 17 18 19]]\n",
      "\n",
      " [[20 21 22 23 24]\n",
      "  [25 26 27 28 29]]]\n"
     ]
    }
   ],
   "source": [
    "## converting a tensor to numpy\n",
    "rank_3_tensor=np.array(rank_3_tensor)\n",
    "print(rank_3_tensor)"
   ]
  },
  {
   "cell_type": "code",
   "execution_count": 76,
   "metadata": {},
   "outputs": [
    {
     "name": "stdout",
     "output_type": "stream",
     "text": [
      "<tf.Variable 'Variable:0' shape=(3, 2) dtype=float32, numpy=\n",
      "array([[1., 2.],\n",
      "       [3., 4.],\n",
      "       [5., 6.]], dtype=float32)>\n",
      "<tf.Variable 'Variable:0' shape=(2, 1) dtype=complex128, numpy=\n",
      "array([[5.+4.j],\n",
      "       [6.+1.j]])>\n"
     ]
    }
   ],
   "source": [
    "### if your using tf.constant module to generate tensor we cannot change the values in the tensor\n",
    "rnk_2=tf.Variable(rank_2_tensor)\n",
    "print(rnk_2)\n",
    "# to change values in tensor we use assign option in tensorflow\n",
    "rnk_2[:,0].assign([7,0,2])\n",
    "# Variables can be all kinds of types, just like tensors\n",
    "bool_variable = tf.Variable([False, False, False, True])\n",
    "complex_variable = tf.Variable([[5 + 4j], [6 + 1j]],shape=(2,1))\n",
    "print(complex_variable)\n"
   ]
  },
  {
   "cell_type": "markdown",
   "metadata": {},
   "source": [
    "### We can create random tensors by using the tf.random.Generator class."
   ]
  },
  {
   "cell_type": "code",
   "execution_count": 77,
   "metadata": {},
   "outputs": [
    {
     "name": "stdout",
     "output_type": "stream",
     "text": [
      "tf.Tensor([[-0.29604465 -0.21134205  0.01063002]], shape=(1, 3), dtype=float32)\n"
     ]
    }
   ],
   "source": [
    "## creating random tensors \n",
    "rand=tf.random.Generator.from_seed(10)\n",
    "random_rank_1=rand.normal(shape=(1,3))\n",
    "print(random_rank_1)"
   ]
  },
  {
   "cell_type": "code",
   "execution_count": 81,
   "metadata": {},
   "outputs": [
    {
     "name": "stdout",
     "output_type": "stream",
     "text": [
      "tf.Tensor(\n",
      "[[-0.41720247 -0.8913404  -0.48347986 -0.6763936  -0.8263496 ]\n",
      " [-0.32473814 -0.8825326  -0.89007044 -0.4164406  -0.12648427]\n",
      " [-0.63353837 -0.42059672 -0.65214264 -0.768108   -0.32451093]\n",
      " [-0.32453775 -0.02653694 -0.72053826 -0.6296233  -0.24667168]\n",
      " [-0.94416857 -0.4537437  -0.37142253 -0.11304879 -0.39582956]], shape=(5, 5), dtype=float32)\n"
     ]
    }
   ],
   "source": [
    "###  random uniform data with in range\n",
    "random_unifrom=rand.uniform(shape=[5,5],minval=0,maxval=-1)\n",
    "print(random_unifrom)"
   ]
  },
  {
   "cell_type": "code",
   "execution_count": 92,
   "metadata": {},
   "outputs": [
    {
     "name": "stdout",
     "output_type": "stream",
     "text": [
      "(10,)\n",
      "tf.Tensor(\n",
      "[[0 1]\n",
      " [2 3]\n",
      " [4 5]\n",
      " [6 7]\n",
      " [8 9]], shape=(5, 2), dtype=int32)\n"
     ]
    }
   ],
   "source": [
    "## similar to numpy tensorflow has range option with (start,stop,delta)\n",
    "n_s=tf.range(0,10,1)\n",
    "print(n_s.shape)\n",
    "n_s=tf.reshape(n_s,[5,2])\n",
    "print(n_s)"
   ]
  },
  {
   "cell_type": "code",
   "execution_count": 98,
   "metadata": {},
   "outputs": [
    {
     "name": "stdout",
     "output_type": "stream",
     "text": [
      "tf.Tensor(\n",
      "[[0 1]\n",
      " [2 3]\n",
      " [4 5]\n",
      " [6 7]\n",
      " [8 9]], shape=(5, 2), dtype=int32) tf.Tensor(\n",
      "[[4 5]\n",
      " [6 7]\n",
      " [2 3]\n",
      " [8 9]\n",
      " [0 1]], shape=(5, 2), dtype=int32)\n"
     ]
    }
   ],
   "source": [
    "### shuffling data with tensor\n",
    "shuffled_data=tf.random.shuffle(n_s)\n",
    "print(n_s,shuffled_data)"
   ]
  },
  {
   "cell_type": "code",
   "execution_count": 100,
   "metadata": {},
   "outputs": [
    {
     "name": "stdout",
     "output_type": "stream",
     "text": [
      "tf.Tensor(\n",
      "[[1. 1.]\n",
      " [1. 1.]], shape=(2, 2), dtype=float16)\n"
     ]
    }
   ],
   "source": [
    "### other methods to generate tensors\n",
    "one=tf.ones(name='ones',shape=[2,2],dtype=np.float16)\n",
    "print(one)"
   ]
  },
  {
   "cell_type": "code",
   "execution_count": 102,
   "metadata": {},
   "outputs": [
    {
     "name": "stdout",
     "output_type": "stream",
     "text": [
      "tf.Tensor(\n",
      "[[0. 0. 0.]\n",
      " [0. 0. 0.]\n",
      " [0. 0. 0.]], shape=(3, 3), dtype=float16)\n"
     ]
    }
   ],
   "source": [
    "zers=tf.zeros(name='zero',shape=[3,3],dtype=np.float16)\n",
    "print(zers)"
   ]
  },
  {
   "cell_type": "code",
   "execution_count": 108,
   "metadata": {},
   "outputs": [
    {
     "name": "stdout",
     "output_type": "stream",
     "text": [
      "tf.Tensor(\n",
      "[[1. 0. 0. 0.]\n",
      " [0. 1. 0. 0.]\n",
      " [0. 0. 1. 0.]\n",
      " [0. 0. 0. 1.]], shape=(4, 4), dtype=float16)\n"
     ]
    }
   ],
   "source": [
    "ey=tf.eye(4,dtype=np.float16)\n",
    "print(ey)"
   ]
  },
  {
   "cell_type": "code",
   "execution_count": 126,
   "metadata": {},
   "outputs": [
    {
     "name": "stdout",
     "output_type": "stream",
     "text": [
      "tf.Tensor(\n",
      "[[[[1. 1. 1. 1.]]\n",
      "\n",
      "  [[1. 1. 1. 1.]]\n",
      "\n",
      "  [[1. 1. 1. 1.]]]\n",
      "\n",
      "\n",
      " [[[1. 1. 1. 1.]]\n",
      "\n",
      "  [[1. 1. 1. 1.]]\n",
      "\n",
      "  [[1. 1. 1. 1.]]]], shape=(2, 3, 1, 4), dtype=float32)\n"
     ]
    }
   ],
   "source": [
    "### Higher order tensors\n",
    "rank_4=tf.ones(shape=(2,3,1,4))\n",
    "print(rank_4)"
   ]
  },
  {
   "cell_type": "code",
   "execution_count": 127,
   "metadata": {},
   "outputs": [
    {
     "name": "stdout",
     "output_type": "stream",
     "text": [
      "Datatype of every element: <dtype: 'float32'>\n",
      "Number of dimensions (rank): 4\n",
      "Shape of tensor: (2, 3, 1, 4)\n",
      "Elements along axis 0 of tensor: 2\n",
      "Elements along last axis of tensor: 4\n",
      "Total number of elements: 24\n"
     ]
    }
   ],
   "source": [
    "print(\"Datatype of every element:\", rank_4.dtype)\n",
    "print(\"Number of dimensions (rank):\", rank_4.ndim)\n",
    "print(\"Shape of tensor:\", rank_4.shape)\n",
    "print(\"Elements along axis 0 of tensor:\", rank_4.shape[0])\n",
    "print(\"Elements along last axis of tensor:\", rank_4.shape[-1])\n",
    "print(\"Total number of elements:\", tf.size(rank_4).numpy()) # .numpy() converts to NumPy array"
   ]
  },
  {
   "cell_type": "markdown",
   "metadata": {},
   "source": [
    "## Tensor operations"
   ]
  },
  {
   "cell_type": "code",
   "execution_count": 156,
   "metadata": {},
   "outputs": [
    {
     "name": "stdout",
     "output_type": "stream",
     "text": [
      "Boardcasting is supported\n",
      "tf.Tensor(\n",
      "[[0 1]\n",
      " [2 3]\n",
      " [4 5]\n",
      " [6 7]\n",
      " [8 9]], shape=(5, 2), dtype=int32) tf.Tensor(\n",
      "[[10 11]\n",
      " [12 13]\n",
      " [14 15]\n",
      " [16 17]\n",
      " [18 19]], shape=(5, 2), dtype=int32)\n"
     ]
    }
   ],
   "source": [
    "## add and sub and div\n",
    "a=tf.reshape(tf.range(0,10,1),shape=[5,2])\n",
    "print(\"Boardcasting is supported\")\n",
    "print(a,a+10)"
   ]
  },
  {
   "cell_type": "code",
   "execution_count": 163,
   "metadata": {},
   "outputs": [
    {
     "name": "stdout",
     "output_type": "stream",
     "text": [
      "tf.Tensor(\n",
      "[[1 2 3]\n",
      " [1 2 3]\n",
      " [1 2 3]], shape=(3, 3), dtype=int32)\n"
     ]
    }
   ],
   "source": [
    "print(tf.broadcast_to(tf.constant([1, 2, 3]), [3, 3]))"
   ]
  },
  {
   "cell_type": "code",
   "execution_count": 164,
   "metadata": {},
   "outputs": [
    {
     "name": "stdout",
     "output_type": "stream",
     "text": [
      "addition tf.Tensor(\n",
      "[[ 0  2]\n",
      " [ 4  6]\n",
      " [ 8 10]\n",
      " [12 14]\n",
      " [16 18]], shape=(5, 2), dtype=int32)\n"
     ]
    }
   ],
   "source": [
    "b=tf.reshape(tf.range(0,10,1),shape=[5,2])\n",
    "print('addition',a+b)"
   ]
  },
  {
   "cell_type": "code",
   "execution_count": 165,
   "metadata": {},
   "outputs": [
    {
     "name": "stdout",
     "output_type": "stream",
     "text": [
      "subtraction tf.Tensor(\n",
      "[[0 0]\n",
      " [0 0]\n",
      " [0 0]\n",
      " [0 0]\n",
      " [0 0]], shape=(5, 2), dtype=int32)\n"
     ]
    }
   ],
   "source": [
    "print('subtraction',a-b)"
   ]
  },
  {
   "cell_type": "code",
   "execution_count": 166,
   "metadata": {},
   "outputs": [
    {
     "name": "stdout",
     "output_type": "stream",
     "text": [
      "element mulmultiple  tf.Tensor(\n",
      "[[ 0  1]\n",
      " [ 4  9]\n",
      " [16 25]\n",
      " [36 49]\n",
      " [64 81]], shape=(5, 2), dtype=int32)\n"
     ]
    }
   ],
   "source": [
    "print('element mulmultiple ',a*b)"
   ]
  },
  {
   "cell_type": "code",
   "execution_count": 167,
   "metadata": {},
   "outputs": [
    {
     "name": "stdout",
     "output_type": "stream",
     "text": [
      "element divison tf.Tensor(\n",
      "[[nan  1.]\n",
      " [ 1.  1.]\n",
      " [ 1.  1.]\n",
      " [ 1.  1.]\n",
      " [ 1.  1.]], shape=(5, 2), dtype=float64)\n"
     ]
    }
   ],
   "source": [
    "print('element divison',a/b)"
   ]
  },
  {
   "cell_type": "code",
   "execution_count": 168,
   "metadata": {},
   "outputs": [
    {
     "name": "stdout",
     "output_type": "stream",
     "text": [
      "(5, 2) (5, 2)\n",
      "tf.Tensor(\n",
      "[[120 140]\n",
      " [140 165]], shape=(2, 2), dtype=int32)\n"
     ]
    }
   ],
   "source": [
    "c=tf.matmul(tf.transpose(a),b)\n",
    "print(a.shape,b.shape)\n",
    "print(c)"
   ]
  },
  {
   "cell_type": "code",
   "execution_count": 176,
   "metadata": {},
   "outputs": [
    {
     "name": "stdout",
     "output_type": "stream",
     "text": [
      "axes= 1 is equivalent to matrix multiplication inner dot product\n",
      "(2, 2)\n",
      "axes=0 is equivalent to outer product\n",
      "(2, 5, 5, 2)\n",
      "number of elements tf.Tensor(100, shape=(), dtype=int32)\n"
     ]
    }
   ],
   "source": [
    "### tensordot product \n",
    "d=tf.tensordot(tf.transpose(a),b,axes=1)\n",
    "e=tf.tensordot(tf.transpose(a),b,axes=0)\n",
    "print('axes= 1 is equivalent to matrix multiplication inner dot product')\n",
    "print(d.shape)\n",
    "print('axes=0 is equivalent to outer product')\n",
    "print(e.shape)\n",
    "print('number of elements',tf.size(e))"
   ]
  },
  {
   "cell_type": "code",
   "execution_count": 190,
   "metadata": {},
   "outputs": [
    {
     "name": "stdout",
     "output_type": "stream",
     "text": [
      "tf.Tensor(\n",
      "[[ 1.0278524   0.27974114 -0.01347923]\n",
      " [ 1.845181    0.97061104 -1.0242516 ]\n",
      " [-0.6544423  -0.29738766 -1.3240396 ]], shape=(3, 3), dtype=float32)\n",
      "maximum in tensor and it's poisiton\n",
      "tf.Tensor(1.845181, shape=(), dtype=float32)\n",
      "[1 1 0]\n"
     ]
    }
   ],
   "source": [
    "### finding the max, min in tensor\n",
    "rand=tf.random.Generator.from_seed(5)\n",
    "max_A=rand.normal(shape=[3,3])\n",
    "print(max_A)\n",
    "print('maximum in tensor and it\\'s poisiton')\n",
    "print(tf.math.reduce_max(max_A))\n",
    "print(tf.argmax(max_A).numpy())"
   ]
  },
  {
   "cell_type": "code",
   "execution_count": 195,
   "metadata": {},
   "outputs": [
    {
     "name": "stdout",
     "output_type": "stream",
     "text": [
      "tf.Tensor(\n",
      "[[-0.567016   -0.2077086  -0.18223882]\n",
      " [-0.99883735 -0.36950588 -0.37927854]\n",
      " [-0.7723117  -0.68211746 -0.39932835]], shape=(3, 3), dtype=float32)\n",
      "tf.Tensor(\n",
      "[[0.567016   0.2077086  0.18223882]\n",
      " [0.99883735 0.36950588 0.37927854]\n",
      " [0.7723117  0.68211746 0.39932835]], shape=(3, 3), dtype=float32)\n"
     ]
    }
   ],
   "source": [
    "rand=tf.random.Generator.from_seed(5)\n",
    "uni=rand.uniform(shape=[3,3],minval=0,maxval=-1)\n",
    "print(uni)\n",
    "print('Absolute values of all elements in tensor')\n",
    "print(tf.abs(uni))"
   ]
  },
  {
   "cell_type": "markdown",
   "metadata": {},
   "source": [
    "### Squeezing a tensor (removing all single dimensions)\n",
    "If you need to remove single-dimensions from a tensor (dimensions with size 1), you can use tf.squeeze().\n",
    "\n",
    "tf.squeeze() - remove all dimensions of 1 from a tensor"
   ]
  },
  {
   "cell_type": "code",
   "execution_count": 199,
   "metadata": {},
   "outputs": [
    {
     "name": "stdout",
     "output_type": "stream",
     "text": [
      "tf.Tensor([[[[1. 1. 1. 1.]]]], shape=(1, 1, 1, 4), dtype=float32)\n",
      "(1, 1, 1, 4)\n"
     ]
    }
   ],
   "source": [
    "rank_4=tf.ones(shape=(1,1,1,4))\n",
    "print(rank_4)\n",
    "print(rank_4.shape)"
   ]
  },
  {
   "cell_type": "code",
   "execution_count": 198,
   "metadata": {},
   "outputs": [
    {
     "name": "stdout",
     "output_type": "stream",
     "text": [
      "tf.Tensor([1. 1. 1. 1.], shape=(4,), dtype=float32)\n",
      "(4,)\n"
     ]
    }
   ],
   "source": [
    "sequeezed_ten=tf.squeeze(rank_4)\n",
    "print(sequeezed_ten)\n",
    "print(sequeezed_ten.shape)"
   ]
  },
  {
   "cell_type": "markdown",
   "metadata": {},
   "source": [
    "### One-hot encoding\n",
    "If you have a tensor of indicies and would like to one-hot encode it, you can use tf.one_hot().\n",
    "\n",
    "You should also specify the depth parameter (the level which you want to one-hot encode to)."
   ]
  },
  {
   "cell_type": "code",
   "execution_count": 206,
   "metadata": {},
   "outputs": [
    {
     "name": "stdout",
     "output_type": "stream",
     "text": [
      "tf.Tensor(\n",
      "[[1. 1. 0. 0. 0. 0. 0. 0.]\n",
      " [0. 0. 0. 0. 0. 0. 0. 1.]\n",
      " [0. 0. 1. 0. 0. 0. 0. 0.]\n",
      " [0. 0. 0. 1. 0. 0. 0. 0.]\n",
      " [0. 0. 0. 0. 1. 0. 0. 0.]\n",
      " [0. 0. 0. 0. 0. 0. 1. 0.]], shape=(6, 8), dtype=float32)\n",
      "(6, 8)\n"
     ]
    }
   ],
   "source": [
    "list=[0,0,2,3,4,6,5,1]\n",
    "output=tf.transpose(tf.one_hot(list,depth=6))\n",
    "print(output)\n",
    "print(output.shape)"
   ]
  },
  {
   "cell_type": "code",
   "execution_count": 207,
   "metadata": {},
   "outputs": [],
   "source": [
    "## one-hot is like pivot table, based on depth \n",
    "# the matrix is formulated if index 0's value is 5 then (0,5) is one all others values in that column are zeros"
   ]
  },
  {
   "cell_type": "code",
   "execution_count": 209,
   "metadata": {},
   "outputs": [
    {
     "name": "stdout",
     "output_type": "stream",
     "text": [
      "tf.Tensor(\n",
      "[[b'on' b'on' b'off' b'off' b'off' b'off' b'off' b'off']\n",
      " [b'off' b'off' b'off' b'off' b'off' b'off' b'off' b'on']\n",
      " [b'off' b'off' b'on' b'off' b'off' b'off' b'off' b'off']\n",
      " [b'off' b'off' b'off' b'on' b'off' b'off' b'off' b'off']\n",
      " [b'off' b'off' b'off' b'off' b'on' b'off' b'off' b'off']\n",
      " [b'off' b'off' b'off' b'off' b'off' b'off' b'on' b'off']], shape=(6, 8), dtype=string)\n"
     ]
    }
   ],
   "source": [
    "output=tf.transpose(tf.one_hot(list,depth=6,on_value='on',off_value='off'))\n",
    "print(output)"
   ]
  },
  {
   "cell_type": "code",
   "execution_count": 215,
   "metadata": {},
   "outputs": [
    {
     "name": "stdout",
     "output_type": "stream",
     "text": [
      "tf.Tensor(\n",
      "[[0 1]\n",
      " [2 3]\n",
      " [4 5]\n",
      " [6 7]\n",
      " [8 9]], shape=(5, 2), dtype=int32)\n",
      "tf.Tensor(\n",
      "[[ 0  1]\n",
      " [ 4  9]\n",
      " [16 25]\n",
      " [36 49]\n",
      " [64 81]], shape=(5, 2), dtype=int32)\n"
     ]
    }
   ],
   "source": [
    "## performing squart and sqrt\n",
    "square=tf.reshape(tf.range(0,10,1),shape=[5,2])\n",
    "print(square)\n",
    "print(square**2)"
   ]
  },
  {
   "cell_type": "code",
   "execution_count": 226,
   "metadata": {},
   "outputs": [
    {
     "name": "stdout",
     "output_type": "stream",
     "text": [
      " To perform sqrt operation the data type has to be float\n",
      "tf.Tensor(\n",
      "[[0.    1.   ]\n",
      " [1.414 1.732]\n",
      " [2.    2.236]\n",
      " [2.45  2.646]\n",
      " [2.828 3.   ]], shape=(5, 2), dtype=float16)\n"
     ]
    }
   ],
   "source": [
    "print(' To perform sqrt operation the data type has to be float')\n",
    "sqrt=tf.cast(square,dtype=np.float16)\n",
    "print(sqrt**0.5)"
   ]
  },
  {
   "cell_type": "code",
   "execution_count": 231,
   "metadata": {},
   "outputs": [
    {
     "name": "stdout",
     "output_type": "stream",
     "text": [
      "To perform log function we need to convert datatype from int to float\n",
      "tf.Tensor(\n",
      "[[  -inf 0.    ]\n",
      " [0.6934 1.099 ]\n",
      " [1.387  1.609 ]\n",
      " [1.792  1.946 ]\n",
      " [2.08   2.197 ]], shape=(5, 2), dtype=float16)\n"
     ]
    }
   ],
   "source": [
    "square=tf.reshape(tf.range(0,10,1),shape=[5,2])\n",
    "sqrt=tf.cast(square,dtype=np.float16)\n",
    "ln=tf.math.log(sqrt)\n",
    "print('To perform log function we need to convert datatype from int to float')\n",
    "print(ln)"
   ]
  },
  {
   "cell_type": "markdown",
   "metadata": {},
   "source": [
    "## Manipulating tf.Variable tensors\n",
    "Tensors created with tf.Variable() can be changed in place using methods such as:\n",
    "\n",
    ".assign() - assign a different value to a particular index of a variable tensor.\n",
    "\n",
    ".add_assign() - add to an existing value and reassign it at a particular index of a variable tensor."
   ]
  },
  {
   "cell_type": "code",
   "execution_count": 239,
   "metadata": {},
   "outputs": [
    {
     "name": "stdout",
     "output_type": "stream",
     "text": [
      "<tf.Variable 'Variable:0' shape=(5,) dtype=float32, numpy=array([0., 1., 2., 3., 4.], dtype=float32)>\n"
     ]
    }
   ],
   "source": [
    "z=np.arange(0,5,1)\n",
    "I=tf.Variable(z,dtype=np.float32)\n",
    "print(I)"
   ]
  },
  {
   "cell_type": "code",
   "execution_count": 240,
   "metadata": {},
   "outputs": [
    {
     "name": "stdout",
     "output_type": "stream",
     "text": [
      "<tf.Variable 'Variable:0' shape=(5,) dtype=float32, numpy=array([ 0.,  1.,  2.,  3., 50.], dtype=float32)>\n"
     ]
    }
   ],
   "source": [
    "# To change the values in the tensor variable \n",
    "I.assign([0,1,2,3,50])\n",
    "print(I)"
   ]
  },
  {
   "cell_type": "markdown",
   "metadata": {},
   "source": [
    "### @tf.function\n",
    "In the @tf.function decorator case, it turns a Python function into a callable TensorFlow graph. Which is a fancy way of saying, if you've written your own Python function, and you decorate it with @tf.function, when you export your code (to potentially run on another device),\n",
    "\n",
    "TensorFlow will attempt to convert it into a fast(er) version of itself (by making it part of a computation graph).\n",
    "\n"
   ]
  },
  {
   "cell_type": "code",
   "execution_count": 252,
   "metadata": {},
   "outputs": [
    {
     "name": "stdout",
     "output_type": "stream",
     "text": [
      "tf.Tensor([  0   4  18  48 100 180 294 448 648 900], shape=(10,), dtype=int32)\n"
     ]
    }
   ],
   "source": [
    "def fun(x):\n",
    "    y=x**3+2*x**2+x\n",
    "    return y\n",
    "\n",
    "@tf.function\n",
    "def fun_1(x):\n",
    "    y=x**3+2*x**2+x\n",
    "    return y\n",
    "\n",
    "x=tf.range(0,10)\n",
    "y=fun(x)\n",
    "print(y)"
   ]
  },
  {
   "cell_type": "code",
   "execution_count": null,
   "metadata": {},
   "outputs": [],
   "source": []
  }
 ],
 "metadata": {
  "kernelspec": {
   "display_name": "Python 3.7.4 64-bit",
   "language": "python",
   "name": "python37464bitea317a4e8f5f425ab9c1f0cd775dc5b1"
  },
  "language_info": {
   "codemirror_mode": {
    "name": "ipython",
    "version": 3
   },
   "file_extension": ".py",
   "mimetype": "text/x-python",
   "name": "python",
   "nbconvert_exporter": "python",
   "pygments_lexer": "ipython3",
   "version": "3.7.4"
  }
 },
 "nbformat": 4,
 "nbformat_minor": 4
}
